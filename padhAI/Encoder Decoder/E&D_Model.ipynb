{
  "nbformat": 4,
  "nbformat_minor": 0,
  "metadata": {
    "colab": {
      "name": "E&D Model.ipynb",
      "provenance": [],
      "collapsed_sections": []
    },
    "kernelspec": {
      "name": "python3",
      "display_name": "Python 3"
    },
    "accelerator": "GPU"
  },
  "cells": [
    {
      "cell_type": "code",
      "metadata": {
        "id": "Z7QtlO0B3Q7H",
        "colab_type": "code",
        "colab": {}
      },
      "source": [
        "import torch\n",
        "import torch.nn as nn\n",
        "import torch.optim as optim\n",
        "from torch.autograd import Variable\n",
        "import torch.nn.functional as F\n",
        "import numpy as np\n",
        "\n",
        "# Instantiates the device to be used as GPU/CPU based on availability\n",
        "device_gpu = torch.device(\"cuda:0\" if torch.cuda.is_available() else \"cpu\")\n",
        "\n",
        "# Visualization tools\n",
        "import matplotlib.pyplot as plt\n",
        "import seaborn as sns\n",
        "from IPython.display import clear_output\n",
        "\n",
        "import random"
      ],
      "execution_count": 0,
      "outputs": []
    },
    {
      "cell_type": "markdown",
      "metadata": {
        "id": "6pMCCpa04IHy",
        "colab_type": "text"
      },
      "source": [
        "## Data Management"
      ]
    },
    {
      "cell_type": "markdown",
      "metadata": {
        "id": "R4jGF40w4MUw",
        "colab_type": "text"
      },
      "source": [
        "### Alphabet Setup"
      ]
    },
    {
      "cell_type": "code",
      "metadata": {
        "id": "rJsZkLMr4DoQ",
        "colab_type": "code",
        "outputId": "45f3e62c-c769-43aa-c925-c18fc77233c0",
        "colab": {
          "base_uri": "https://localhost:8080/",
          "height": 54
        }
      },
      "source": [
        "eng_alphabets = 'ABCDEFGHIJKLMNOPQRSTUVWXYZ'\n",
        "pad_char = '-PAD-'\n",
        "\n",
        "eng_alpha2index = {pad_char: 0}\n",
        "for index, char in enumerate(eng_alphabets):\n",
        "    eng_alpha2index[char] = index+1\n",
        "print(eng_alpha2index)"
      ],
      "execution_count": 6,
      "outputs": [
        {
          "output_type": "stream",
          "text": [
            "{'-PAD-': 0, 'A': 1, 'B': 2, 'C': 3, 'D': 4, 'E': 5, 'F': 6, 'G': 7, 'H': 8, 'I': 9, 'J': 10, 'K': 11, 'L': 12, 'M': 13, 'N': 14, 'O': 15, 'P': 16, 'Q': 17, 'R': 18, 'S': 19, 'T': 20, 'U': 21, 'V': 22, 'W': 23, 'X': 24, 'Y': 25, 'Z': 26}\n"
          ],
          "name": "stdout"
        }
      ]
    },
    {
      "cell_type": "code",
      "metadata": {
        "id": "9P0RHc_H46p0",
        "colab_type": "code",
        "outputId": "5a171783-4d64-412c-bd59-4ed128cf0c77",
        "colab": {
          "base_uri": "https://localhost:8080/",
          "height": 54
        }
      },
      "source": [
        "# Hindi Unicode Hex Range is 2304:2432. Source: https://en.wikipedia.org/wiki/Devanagari_(Unicode_block)\n",
        "hindi_alphabets = [chr(alpha) for alpha in range(2304, 2432)]\n",
        "hindi_alphabet_size = len(hindi_alphabets)\n",
        "\n",
        "hindi_alpha2index = {pad_char: 0}\n",
        "for index, alpha in enumerate(hindi_alphabets):\n",
        "    hindi_alpha2index[alpha] = index+1\n",
        "\n",
        "print(hindi_alpha2index)"
      ],
      "execution_count": 7,
      "outputs": [
        {
          "output_type": "stream",
          "text": [
            "{'-PAD-': 0, 'ऀ': 1, 'ँ': 2, 'ं': 3, 'ः': 4, 'ऄ': 5, 'अ': 6, 'आ': 7, 'इ': 8, 'ई': 9, 'उ': 10, 'ऊ': 11, 'ऋ': 12, 'ऌ': 13, 'ऍ': 14, 'ऎ': 15, 'ए': 16, 'ऐ': 17, 'ऑ': 18, 'ऒ': 19, 'ओ': 20, 'औ': 21, 'क': 22, 'ख': 23, 'ग': 24, 'घ': 25, 'ङ': 26, 'च': 27, 'छ': 28, 'ज': 29, 'झ': 30, 'ञ': 31, 'ट': 32, 'ठ': 33, 'ड': 34, 'ढ': 35, 'ण': 36, 'त': 37, 'थ': 38, 'द': 39, 'ध': 40, 'न': 41, 'ऩ': 42, 'प': 43, 'फ': 44, 'ब': 45, 'भ': 46, 'म': 47, 'य': 48, 'र': 49, 'ऱ': 50, 'ल': 51, 'ळ': 52, 'ऴ': 53, 'व': 54, 'श': 55, 'ष': 56, 'स': 57, 'ह': 58, 'ऺ': 59, 'ऻ': 60, '़': 61, 'ऽ': 62, 'ा': 63, 'ि': 64, 'ी': 65, 'ु': 66, 'ू': 67, 'ृ': 68, 'ॄ': 69, 'ॅ': 70, 'ॆ': 71, 'े': 72, 'ै': 73, 'ॉ': 74, 'ॊ': 75, 'ो': 76, 'ौ': 77, '्': 78, 'ॎ': 79, 'ॏ': 80, 'ॐ': 81, '॑': 82, '॒': 83, '॓': 84, '॔': 85, 'ॕ': 86, 'ॖ': 87, 'ॗ': 88, 'क़': 89, 'ख़': 90, 'ग़': 91, 'ज़': 92, 'ड़': 93, 'ढ़': 94, 'फ़': 95, 'य़': 96, 'ॠ': 97, 'ॡ': 98, 'ॢ': 99, 'ॣ': 100, '।': 101, '॥': 102, '०': 103, '१': 104, '२': 105, '३': 106, '४': 107, '५': 108, '६': 109, '७': 110, '८': 111, '९': 112, '॰': 113, 'ॱ': 114, 'ॲ': 115, 'ॳ': 116, 'ॴ': 117, 'ॵ': 118, 'ॶ': 119, 'ॷ': 120, 'ॸ': 121, 'ॹ': 122, 'ॺ': 123, 'ॻ': 124, 'ॼ': 125, 'ॽ': 126, 'ॾ': 127, 'ॿ': 128}\n"
          ],
          "name": "stdout"
        }
      ]
    },
    {
      "cell_type": "markdown",
      "metadata": {
        "id": "Um5SDa_Q6Dqp",
        "colab_type": "text"
      },
      "source": [
        "## Helper functions for data pre-processing\n"
      ]
    },
    {
      "cell_type": "code",
      "metadata": {
        "id": "YN8lOVuf5lJE",
        "colab_type": "code",
        "colab": {}
      },
      "source": [
        "import re\n",
        "non_eng_letters_regex = re.compile('[^a-zA-Z ]')\n",
        "\n",
        "# Remove all English non-letters\n",
        "def cleanEnglishVocab(line):\n",
        "    line = line.replace('-', ' ').replace(',', ' ').upper()\n",
        "    line = non_eng_letters_regex.sub('', line)\n",
        "    return line.split()\n",
        "\n",
        "# Remove all Hindi non-letters\n",
        "def cleanHindiVocab(line):\n",
        "    line = line.replace('-', ' ').replace(',', ' ')\n",
        "    cleaned_line = ''\n",
        "    for char in line:\n",
        "        if char in hindi_alpha2index or char == ' ':\n",
        "            cleaned_line += char\n",
        "    return cleaned_line.split()"
      ],
      "execution_count": 0,
      "outputs": []
    },
    {
      "cell_type": "markdown",
      "metadata": {
        "id": "RLSNXv_m70z8",
        "colab_type": "text"
      },
      "source": [
        "##Dataset Loading"
      ]
    },
    {
      "cell_type": "code",
      "metadata": {
        "id": "MUPLGkQ97pjs",
        "colab_type": "code",
        "colab": {}
      },
      "source": [
        "from torch.utils.data import Dataset\n",
        "import xml.etree.ElementTree as ET\n",
        "\n",
        "class TranslitrationDataLoader(Dataset):\n",
        "    def __init__(self, filename):\n",
        "        self.eng_words, self.hindi_words = self.readXMLDataset(filename,cleanHindiVocab)\n",
        "        self.shuffle_indices = list(range(len(self.eng_words)))\n",
        "        random.shuffle(self.shuffle_indices)\n",
        "        self.shuffle_start_index = 0\n",
        "    \n",
        "    def __len__(self):\n",
        "        return len(self.eng_words)\n",
        "    \n",
        "    def __getitem__(self,idx):\n",
        "        return self.eng_words[idx], self.hindi_words[idx]\n",
        "\n",
        "    def get_random_sample(self):\n",
        "        return self.__getitem__(np.random.randint(len(self.eng_words)))\n",
        "\n",
        "    def readXMLDataset(self,filename, lang_vocab_cleaner):\n",
        "        translitrationCorpus = ET.parse(filename).getroot()\n",
        "        lang1_words = []\n",
        "        lang2_words = []\n",
        "\n",
        "        for line in translitrationCorpus:\n",
        "            wordlist1 = cleanEnglishVocab(line[0].text)\n",
        "            wordlist2 = lang_vocab_cleaner(line[1].text)\n",
        "\n",
        "            #skip the noisy data\n",
        "            if len(wordlist1) != len(wordlist2):\n",
        "                print(\"Skipping :\", line[0].text, ' - ', line[1].text)\n",
        "                continue\n",
        "\n",
        "            for word in wordlist1:\n",
        "                lang1_words.append(word)\n",
        "            for word in wordlist2:\n",
        "                lang2_words.append(word)\n",
        "\n",
        "        return lang1_words, lang2_words\n",
        "    \n",
        "    def get_batch_from_array(self, batch_size, array):\n",
        "        end = self.shuffle_start_index + batch_size\n",
        "        batch = []\n",
        "        if end >= len(self.eng_words):\n",
        "            batch = [array[i] for i in self.shuffle_indices[0:end%len(self.eng_words)]]\n",
        "            end = len(self.eng_words)\n",
        "        return batch + [array[i] for i in self.shuffle_indices[self.shuffle_start_index: end]]\n",
        "    \n",
        "    def get_batch(self, batch_size, postprocess = True):\n",
        "        eng_batch = self.get_batch_from_array(batch_size,self.eng_words)\n",
        "        hindi_batch = self.get_batch_from_array(batch_size,self.hindi_words)\n",
        "        self.shuffle_start_index += batch_size +1\n",
        "\n",
        "        #Reshuffle if 1 epoch is complete\n",
        "        if self.shuffle_start_index >= len(self.eng_words):\n",
        "            random.shuffle(self.shuffle_indices)\n",
        "            self.shuffle_start_index = 0\n",
        "\n",
        "        return eng_batch, hindi_batch\n",
        "     "
      ],
      "execution_count": 0,
      "outputs": []
    },
    {
      "cell_type": "code",
      "metadata": {
        "id": "UkaCnvvWCohd",
        "colab_type": "code",
        "outputId": "5d2e582d-bad8-4134-cb30-9dc9b5596875",
        "colab": {
          "base_uri": "https://localhost:8080/",
          "height": 680
        }
      },
      "source": [
        "train_data = TranslitrationDataLoader('NEWS2012-Training-EnHi-13937.xml')\n",
        "test_data = TranslitrationDataLoader('NEWS2012-Ref-EnHi-1000.xml')"
      ],
      "execution_count": 10,
      "outputs": [
        {
          "output_type": "stream",
          "text": [
            "Skipping : BARHARWA JUNCTION  -  बरहरवा\n",
            "Skipping : STATE BNK TR  -  स्टेट बैंक ऑफ त्रावणकोर\n",
            "Skipping : SOUTH ARLINGTON CHURCH OF CHRIST  -  साउथ अर्लिंग्टन\n",
            "Skipping : KING EDWARD VII  -  किंग एडवर्ड\n",
            "Skipping : DIBANG VALLEY  -  दिबंगवैली\n",
            "Skipping : ORDER OF VASA  -  ऑडर ऑफ़ द वासा\n",
            "Skipping : AZAMNAGAR ROAD  -  आज़मनगर\n",
            "Skipping : CAPE TOWN  -  केपटाउन\n",
            "Skipping : NEW ZEALAND  -  न्यूज़ीलैंड\n",
            "Skipping : SEA OF THE HEBRIDES  -  सी ऑफ हरब्रिड्‍स\n",
            "Skipping : RAMCOIND  -  राम्को इंड\n",
            "Skipping : KELVINGROVE ART GALLERY AND MUSEUM  -  केल्व‍िनग्रोव आर्ट एण्ड म्युज़ियम\n",
            "Skipping : AUSTRALIAN NATIONAL UNIVERSITY  -  ऑस्ट्रेलियननेशनल यूनिवर्सिटी\n",
            "Skipping : JAHAN AARA  -  जहाँआरा\n",
            "Skipping : NAVABHARAT FERRO ALLOYS  -  नव भारत फ़ैरो अलॉय\n",
            "Skipping : RAMA LINGESHWARA  -  रामालिंगेश्वर\n",
            "Skipping : FAKHRUN NISA  -  फखरुन्निसा\n",
            "Skipping : REDIFF.COM INDIA LIMITED  -  रेडिफ़ डॉट कॉम इंडिया लिमिटेड\n",
            "Skipping : OMKARNATH THAKUR  -  ओंकार नाथ ठाकुर\n",
            "Skipping : OPENTV  -  ओपन टीवी\n",
            "Skipping : ENVOY COMMUNICATIONS GROUP  -  एन्वॉय कम्युनिकेशंस\n",
            "Skipping : WAR OF THE HOLY LEAGUE  -  वार ऑफ होली लीग\n",
            "Skipping : VAPARAISO CHURCH OF CHRIST  -  व्हापरासिओ\n",
            "Skipping : PARIS CHARLES DE GAULLE  -  पेरिस रॉसे चार्ल्स डे ग्यूले\n",
            "Skipping : PARKWAY APOSTOLIC  -  पार्क वे अपोस्टोलिक\n",
            "Skipping : MAUNA LOA  -  मौनालोआ\n",
            "Skipping : MASS MUTUAL LIFE  -  मास म्युच्युअल लाइफ़ इंश्योरेंस\n",
            "Skipping : STATS CHIPPAC  -  स्टेट्सचिपपैक\n",
            "Skipping : NEWFOUNDLAND  -  न्यू फाउंडलैंड\n",
            "Skipping : LONDONHEATHROW  -  लंदन हीथ्रो\n",
            "Skipping : RETALIX  -  रेटालिक्स लि.\n",
            "Skipping : SRISAILAM  -  श्री शैलम\n",
            "Skipping : KARA-KUM  -  काराकुम\n",
            "Skipping : WIND RIVER  -  विंडरिवर\n",
            "Skipping : NETAJI SUBHASH CHANDRA BOSE  -  नेताजी सुभाषचंद्र बोस\n",
            "Skipping : ROCKBROOK UNITED  -  रॉकब्रुक यूनाइटेड मेथोडिस्ट\n",
            "Skipping : WALTER SCOTT  -  वॉल्टरस्कॉट\n",
            "Skipping : COLOURPLUS FASHIONS  -  कलर प्लस फ़ैशन्स\n",
            "Skipping : BAL KRISHNA  -  बालकृष्णा\n"
          ],
          "name": "stdout"
        }
      ]
    },
    {
      "cell_type": "markdown",
      "metadata": {
        "id": "DF1TbonpMIQA",
        "colab_type": "text"
      },
      "source": [
        "## Basic Data Visualization"
      ]
    },
    {
      "cell_type": "code",
      "metadata": {
        "id": "jnLh6XAIGN33",
        "colab_type": "code",
        "outputId": "37cf5f0d-1e98-4f01-b84c-5dbacd469bc3",
        "colab": {
          "base_uri": "https://localhost:8080/",
          "height": 255
        }
      },
      "source": [
        "print(\"Length of training dataset = \\t\", len(train_data))\n",
        "print(\"Length of the test dataset = \\t\",len(test_data))\n",
        "\n",
        "print(\"\\n Sample data from training datset:\")\n",
        "for i in range(10):\n",
        "    eng, hindi = train_data.get_random_sample()\n",
        "    print(eng, ' - ', hindi)"
      ],
      "execution_count": 11,
      "outputs": [
        {
          "output_type": "stream",
          "text": [
            "Length of training dataset = \t 20543\n",
            "Length of the test dataset = \t 1000\n",
            "\n",
            " Sample data from training datset:\n",
            "RASPA  -  रैस्पा\n",
            "DWARKA  -  द्वारका\n",
            "PANTANAL  -  पेंटानल\n",
            "KADUTHURUTHI  -  काडूथुरूट्टी\n",
            "BUNDALBAAZ  -  बंडलबाज़\n",
            "MAZDOOR  -  मज़दूर\n",
            "PILGRIM  -  पिलग्रिम\n",
            "WEST  -  वेस्ट\n",
            "FRANZ  -  फ़्रांज़\n",
            "MALK  -  माल्क\n"
          ],
          "name": "stdout"
        }
      ]
    },
    {
      "cell_type": "markdown",
      "metadata": {
        "id": "3pbg65iwdD1N",
        "colab_type": "text"
      },
      "source": [
        "## Encoding the Words"
      ]
    },
    {
      "cell_type": "code",
      "metadata": {
        "id": "F6B0_v18NP2Q",
        "colab_type": "code",
        "colab": {}
      },
      "source": [
        "def word_rep(word, letter2index, device = 'cpu'):\n",
        "    rep = torch.zeros(len(word) +1, 1, len(letter2index)).to(device)\n",
        "    for letter_index, letter in enumerate(word):\n",
        "        pos = letter2index[letter]\n",
        "        rep[letter_index][0][pos] = 1\n",
        "    pad_pos = letter2index[pad_char]\n",
        "    rep[letter_index +1][0][pad_pos] = 1\n",
        "    return rep\n",
        "\n",
        "def gt_rep(word, letter2index, device='cpu'):\n",
        "    gt_rep = torch.zeros([len(word)+1,1], dtype=torch.long).to(device)\n",
        "    for letter_index, letter in enumerate(word):\n",
        "        pos = letter2index[letter]\n",
        "        gt_rep[letter_index][0] = pos\n",
        "    gt_rep[letter_index+1][0] = letter2index[pad_char]\n",
        "    return gt_rep\n"
      ],
      "execution_count": 0,
      "outputs": []
    },
    {
      "cell_type": "code",
      "metadata": {
        "id": "Z0vXT4x5jOHW",
        "colab_type": "code",
        "outputId": "eb0489fd-3731-45e5-e559-a353ea074b3f",
        "colab": {
          "base_uri": "https://localhost:8080/",
          "height": 408
        }
      },
      "source": [
        "#let's see some of the encoding examples\n",
        "eng, hindi = train_data.get_random_sample()\n",
        "eng_rep = word_rep(eng, eng_alpha2index)\n",
        "print(eng, eng_rep)"
      ],
      "execution_count": 13,
      "outputs": [
        {
          "output_type": "stream",
          "text": [
            "BATTICE tensor([[[0., 0., 1., 0., 0., 0., 0., 0., 0., 0., 0., 0., 0., 0., 0., 0., 0.,\n",
            "          0., 0., 0., 0., 0., 0., 0., 0., 0., 0.]],\n",
            "\n",
            "        [[0., 1., 0., 0., 0., 0., 0., 0., 0., 0., 0., 0., 0., 0., 0., 0., 0.,\n",
            "          0., 0., 0., 0., 0., 0., 0., 0., 0., 0.]],\n",
            "\n",
            "        [[0., 0., 0., 0., 0., 0., 0., 0., 0., 0., 0., 0., 0., 0., 0., 0., 0.,\n",
            "          0., 0., 0., 1., 0., 0., 0., 0., 0., 0.]],\n",
            "\n",
            "        [[0., 0., 0., 0., 0., 0., 0., 0., 0., 0., 0., 0., 0., 0., 0., 0., 0.,\n",
            "          0., 0., 0., 1., 0., 0., 0., 0., 0., 0.]],\n",
            "\n",
            "        [[0., 0., 0., 0., 0., 0., 0., 0., 0., 1., 0., 0., 0., 0., 0., 0., 0.,\n",
            "          0., 0., 0., 0., 0., 0., 0., 0., 0., 0.]],\n",
            "\n",
            "        [[0., 0., 0., 1., 0., 0., 0., 0., 0., 0., 0., 0., 0., 0., 0., 0., 0.,\n",
            "          0., 0., 0., 0., 0., 0., 0., 0., 0., 0.]],\n",
            "\n",
            "        [[0., 0., 0., 0., 0., 1., 0., 0., 0., 0., 0., 0., 0., 0., 0., 0., 0.,\n",
            "          0., 0., 0., 0., 0., 0., 0., 0., 0., 0.]],\n",
            "\n",
            "        [[1., 0., 0., 0., 0., 0., 0., 0., 0., 0., 0., 0., 0., 0., 0., 0., 0.,\n",
            "          0., 0., 0., 0., 0., 0., 0., 0., 0., 0.]]])\n"
          ],
          "name": "stdout"
        }
      ]
    },
    {
      "cell_type": "code",
      "metadata": {
        "id": "Ey6hT1Qykntb",
        "colab_type": "code",
        "outputId": "a4645be2-8764-4c30-c6dc-79028c05f6da",
        "colab": {
          "base_uri": "https://localhost:8080/",
          "height": 119
        }
      },
      "source": [
        "hindi_gt = gt_rep(hindi, hindi_alpha2index)\n",
        "print(hindi,hindi_gt)"
      ],
      "execution_count": 14,
      "outputs": [
        {
          "output_type": "stream",
          "text": [
            "बैटिस tensor([[45],\n",
            "        [73],\n",
            "        [32],\n",
            "        [64],\n",
            "        [57],\n",
            "        [ 0]])\n"
          ],
          "name": "stdout"
        }
      ]
    },
    {
      "cell_type": "markdown",
      "metadata": {
        "id": "edriFxEhltg_",
        "colab_type": "text"
      },
      "source": [
        "##Network Architecture"
      ]
    },
    {
      "cell_type": "markdown",
      "metadata": {
        "id": "JPY6nI7olwQn",
        "colab_type": "text"
      },
      "source": [
        "### Encoder-Decoder (using GRU)"
      ]
    },
    {
      "cell_type": "code",
      "metadata": {
        "id": "HDvZcADBk9SY",
        "colab_type": "code",
        "colab": {}
      },
      "source": [
        "MAX_OUTPUT_CHARS = 30\n",
        "class Transliteration_EncoderDecoder(nn.Module):\n",
        "\n",
        "    def __init__(self, input_size, hidden_size, output_size, verbose= True):\n",
        "        super(Transliteration_EncoderDecoder, self).__init__()\n",
        "\n",
        "        self.hidden_size = hidden_size\n",
        "        self.output_size = output_size\n",
        "\n",
        "        self.encoder_rnn_cell = nn.GRU(input_size, hidden_size)\n",
        "        self.decoder_rnn_cell = nn.GRU(output_size, hidden_size)\n",
        "\n",
        "        self.h2o = nn.Linear(hidden_size, output_size)\n",
        "        self.softmax = nn.LogSoftmax(dim=2)\n",
        "\n",
        "        self.verbose = verbose\n",
        "    \n",
        "    def forward(self, input, max_output_char = MAX_OUTPUT_CHARS, device='cpu', ground_truth =None):\n",
        "\n",
        "        #encoder\n",
        "        out, hidden = self.encoder_rnn_cell(input)\n",
        "\n",
        "        if self.verbose:\n",
        "            print('Encoder input ',input.shape)\n",
        "            print('Encoder output ',out.shape)\n",
        "            print('Encoder Hidden ',hidden.shape)\n",
        "        \n",
        "        #decoder\n",
        "        decoder_state = hidden\n",
        "        decoder_input = torch.zeros(1, 1, self.output_size).to(device)\n",
        "        outputs = []\n",
        "\n",
        "        if self.verbose:\n",
        "            print('Decoder state ',decoder_state.shape)\n",
        "            print('Decoder input ', decoder_input.shape)\n",
        "\n",
        "        for i in range(max_output_char):\n",
        "\n",
        "            out, decoder_state = self.decoder_rnn_cell(decoder_input, decoder_state)\n",
        "\n",
        "            if self.verbose:\n",
        "                print('Decoder intermedicate shape ', out.shape)\n",
        "            \n",
        "            out = self.h2o(decoder_state)\n",
        "            out = self.softmax(out)\n",
        "            outputs.append(out.view(1, -1))\n",
        "\n",
        "            if self.verbose:\n",
        "                print('Decoder output ', out.shape)\n",
        "                self.verbose = False\n",
        "            \n",
        "            max_idx = torch.argmax(out, 2, keepdim= True)\n",
        "            if not ground_truth is None:\n",
        "                max_idx = ground_truth[i].reshape(1,1,1)\n",
        "            one_hot = torch.FloatTensor(out.shape).to(device)\n",
        "            one_hot.zero_()\n",
        "            one_hot.scatter_(2, max_idx, 1)\n",
        "\n",
        "            decoder_input = one_hot.detach()\n",
        "        \n",
        "        return outputs\n"
      ],
      "execution_count": 0,
      "outputs": []
    },
    {
      "cell_type": "code",
      "metadata": {
        "id": "0qNxMUEBHGz5",
        "colab_type": "code",
        "colab": {}
      },
      "source": [
        "def infer(net, word ,max_output_chars, device = 'cpu'):\n",
        "    net = net.eval().to(device) # We are not training the model\n",
        "    word_ohe = word_rep(word, eng_alpha2index) # Convert input to  #combination of one hot vector representation\n",
        "    output = net(word_ohe, max_output_chars)\n",
        "    \n",
        "    return output"
      ],
      "execution_count": 0,
      "outputs": []
    },
    {
      "cell_type": "code",
      "metadata": {
        "id": "zyTv-PSas-0x",
        "colab_type": "code",
        "colab": {}
      },
      "source": [
        "net = Transliteration_EncoderDecoder(len(eng_alpha2index), 256, len(hindi_alpha2index), verbose = True)"
      ],
      "execution_count": 0,
      "outputs": []
    },
    {
      "cell_type": "code",
      "metadata": {
        "id": "yqYoUdAAtjbp",
        "colab_type": "code",
        "outputId": "f45999ab-dc4e-4659-eb1a-2471edf3477b",
        "colab": {
          "base_uri": "https://localhost:8080/",
          "height": 136
        }
      },
      "source": [
        "out = infer(net, 'INDIA', 30)"
      ],
      "execution_count": 18,
      "outputs": [
        {
          "output_type": "stream",
          "text": [
            "Encoder input  torch.Size([6, 1, 27])\n",
            "Encoder output  torch.Size([6, 1, 256])\n",
            "Encoder Hidden  torch.Size([1, 1, 256])\n",
            "Decoder state  torch.Size([1, 1, 256])\n",
            "Decoder input  torch.Size([1, 1, 129])\n",
            "Decoder intermedicate shape  torch.Size([1, 1, 256])\n",
            "Decoder output  torch.Size([1, 1, 129])\n"
          ],
          "name": "stdout"
        }
      ]
    },
    {
      "cell_type": "markdown",
      "metadata": {
        "id": "L559RZpPJ1YJ",
        "colab_type": "text"
      },
      "source": [
        "##Training"
      ]
    },
    {
      "cell_type": "markdown",
      "metadata": {
        "id": "UwgX6cc1J4EL",
        "colab_type": "text"
      },
      "source": [
        "###Core Trainer"
      ]
    },
    {
      "cell_type": "code",
      "metadata": {
        "id": "tcNpr0watrq7",
        "colab_type": "code",
        "colab": {}
      },
      "source": [
        "def train_batch(net, opt, criterion, batch_size, device = 'cpu', teacher_force = False):\n",
        "\n",
        "    net.train().to(device)\n",
        "    opt.zero_grad()\n",
        "    eng_batch, hindi_batch = train_data.get_batch(batch_size)\n",
        "\n",
        "    total_loss = 0\n",
        "    for i in range(batch_size):\n",
        "\n",
        "        input = word_rep(eng_batch[i], eng_alpha2index, device)\n",
        "        gt = gt_rep(hindi_batch[i], hindi_alpha2index, device)\n",
        "        outputs = net(input, gt.shape[0], device, ground_truth= gt if teacher_force else None)\n",
        "\n",
        "        for index, output in enumerate(outputs):\n",
        "            loss = criterion (output, gt[index]) / batch_size\n",
        "            loss.backward(retain_graph = True)\n",
        "            total_loss += loss\n",
        "\n",
        "    opt.step()\n",
        "    return total_loss/batch_size"
      ],
      "execution_count": 0,
      "outputs": []
    },
    {
      "cell_type": "code",
      "metadata": {
        "id": "C7Bj0e1lMWZp",
        "colab_type": "code",
        "colab": {}
      },
      "source": [
        "def train_setup(net, lr= 0.01, n_batches = 100, batch_size= 10, momentum=0.9, display_freq =5, device= 'cpu'):\n",
        "\n",
        "    net = net.to(device)\n",
        "    criterion = nn.NLLLoss(ignore_index = -1)\n",
        "    opt = optim.Adam(net.parameters(),lr=lr)\n",
        "    teacher_force_upto = n_batches//3\n",
        "\n",
        "    loss_arr = np.zeros(n_batches+1)\n",
        "\n",
        "    for i in range(n_batches):\n",
        "        loss_arr[i+1] = (loss_arr[i]*i + train_batch(net, opt, criterion, batch_size, device = device, teacher_force = i<teacher_force_upto ))/(i + 1)\n",
        "        \n",
        "        if i%display_freq == display_freq -1:\n",
        "            clear_output(wait=True)\n",
        "\n",
        "            print('Iteration ', i , 'Loss: ',loss_arr[i])\n",
        "            plt.figure()\n",
        "            plt.plot(loss_arr[1:i], '-*')\n",
        "            plt.xlabel('Iteration')\n",
        "            plt.ylabel('Loss')\n",
        "            plt.show()\n",
        "            print('\\n\\n')\n",
        "\n",
        "    torch.save(net, 'Model.pt')\n",
        "    return loss_arr"
      ],
      "execution_count": 0,
      "outputs": []
    },
    {
      "cell_type": "markdown",
      "metadata": {
        "id": "2ZzPPkHyQInf",
        "colab_type": "text"
      },
      "source": [
        "#### Training without Attention"
      ]
    },
    {
      "cell_type": "code",
      "metadata": {
        "id": "VLlRZdOnQDMg",
        "colab_type": "code",
        "colab": {}
      },
      "source": [
        "net = Transliteration_EncoderDecoder(len(eng_alpha2index), 256, len(hindi_alpha2index))"
      ],
      "execution_count": 0,
      "outputs": []
    },
    {
      "cell_type": "code",
      "metadata": {
        "id": "fnc_f-NBQjoY",
        "colab_type": "code",
        "colab": {
          "base_uri": "https://localhost:8080/",
          "height": 537
        },
        "outputId": "f391ac58-c13d-4d3d-d8cd-cbf4cd7df46c"
      },
      "source": [
        "train_setup(net, lr= 0.01, n_batches=1000, batch_size= 64, display_freq = 10, device=device_gpu)"
      ],
      "execution_count": 27,
      "outputs": [
        {
          "output_type": "stream",
          "text": [
            "Iteration  999 Loss:  0.10479665547609329\n"
          ],
          "name": "stdout"
        },
        {
          "output_type": "display_data",
          "data": {
            "image/png": "[encoded data removed]",
            "text/plain": [
              "<Figure size 432x288 with 1 Axes>"
            ]
          },
          "metadata": {
            "tags": []
          }
        },
        {
          "output_type": "stream",
          "text": [
            "\n",
            "\n",
            "\n"
          ],
          "name": "stdout"
        },
        {
          "output_type": "stream",
          "text": [
            "/usr/local/lib/python3.6/dist-packages/torch/serialization.py:292: UserWarning: Couldn't retrieve source code for container of type Transliteration_EncoderDecoder. It won't be checked for correctness upon loading.\n",
            "  \"type \" + obj.__name__ + \". It won't be checked \"\n",
            "/usr/local/lib/python3.6/dist-packages/torch/serialization.py:292: UserWarning: Couldn't retrieve source code for container of type GRU. It won't be checked for correctness upon loading.\n",
            "  \"type \" + obj.__name__ + \". It won't be checked \"\n",
            "/usr/local/lib/python3.6/dist-packages/torch/serialization.py:292: UserWarning: Couldn't retrieve source code for container of type Linear. It won't be checked for correctness upon loading.\n",
            "  \"type \" + obj.__name__ + \". It won't be checked \"\n",
            "/usr/local/lib/python3.6/dist-packages/torch/serialization.py:292: UserWarning: Couldn't retrieve source code for container of type LogSoftmax. It won't be checked for correctness upon loading.\n",
            "  \"type \" + obj.__name__ + \". It won't be checked \"\n"
          ],
          "name": "stderr"
        },
        {
          "output_type": "execute_result",
          "data": {
            "text/plain": [
              "array([0.        , 0.23462348, 0.27173281, ..., 0.10480613, 0.10479666,\n",
              "       0.10476051])"
            ]
          },
          "metadata": {
            "tags": []
          },
          "execution_count": 27
        }
      ]
    },
    {
      "cell_type": "markdown",
      "metadata": {
        "id": "3c0yIijVaE3L",
        "colab_type": "text"
      },
      "source": [
        "## Inference"
      ]
    },
    {
      "cell_type": "code",
      "metadata": {
        "id": "qaIbnHWzSmWS",
        "colab_type": "code",
        "colab": {}
      },
      "source": [
        "def test(net, word , device = 'cpu'):\n",
        "    net = net.eval().to(device)\n",
        "    outputs = infer(net,word, 30, device)\n",
        "    hindi_output = ''\n",
        "\n",
        "    for output in outputs:\n",
        "        val, indices = output.topk(1)\n",
        "        index = indices.tolist()[0][0]\n",
        "        if index ==0:\n",
        "            break\n",
        "        hindi_char = hindi_alphabets[index+1]\n",
        "        hindi_output += hindi_char\n",
        "    print(word + ' - ' + hindi_output)\n",
        "\n",
        "    return hindi_output\n"
      ],
      "execution_count": 0,
      "outputs": []
    },
    {
      "cell_type": "code",
      "metadata": {
        "id": "H3nZWd2rbPS7",
        "colab_type": "code",
        "colab": {}
      },
      "source": [
        "def cal_accuracy(net, device = 'cpu'):\n",
        "    net = net.eval().to(device)\n",
        "    predictions  = []\n",
        "    accuracy = 0\n",
        "\n",
        "    for i in range(len(test_data)):\n",
        "        eng, hindi = test_data[i]\n",
        "        gt = gt_rep(hindi, hindi_alpha2index,device)\n",
        "        outputs = infer(net, eng, gt.shape[0], device)\n",
        "        correct = 0\n",
        "\n",
        "        for index, out in enumerate(outputs):\n",
        "            val, indices = out.topk(1)\n",
        "            hindi_pos = indices.tolist()[0]\n",
        "            \n",
        "            if hindi_pos[0] == gt[index][0]:\n",
        "                correct += 1\n",
        "        \n",
        "        accuracy += correct /gt.shape[0]\n",
        "    accuracy /= len(test_data)\n",
        "\n",
        "    return accuracy"
      ],
      "execution_count": 0,
      "outputs": []
    },
    {
      "cell_type": "code",
      "metadata": {
        "id": "CYAJdNq7dNli",
        "colab_type": "code",
        "colab": {
          "base_uri": "https://localhost:8080/",
          "height": 34
        },
        "outputId": "012ece27-2591-4c85-b5a4-a1dd66517359"
      },
      "source": [
        "accuracy = cal_accuracy(net) * 100\n",
        "print(\"Accuracy without Attention: \", accuracy)"
      ],
      "execution_count": 30,
      "outputs": [
        {
          "output_type": "stream",
          "text": [
            "Accuracy without Attention:  67.30308053058044\n"
          ],
          "name": "stdout"
        }
      ]
    },
    {
      "cell_type": "code",
      "metadata": {
        "id": "pm6UXoMGdZAK",
        "colab_type": "code",
        "colab": {}
      },
      "source": [
        ""
      ],
      "execution_count": 0,
      "outputs": []
    }
  ]
}