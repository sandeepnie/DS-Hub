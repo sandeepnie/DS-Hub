{
 "cells": [
  {
   "cell_type": "markdown",
   "metadata": {},
   "source": [
    "# Classifying Fashion-MNIST\n",
    "\n",
    "Now it's your turn to build and train a neural network. You'll be using the [Fashion-MNIST dataset](https://github.com/zalandoresearch/fashion-mnist), a drop-in replacement for the MNIST dataset. MNIST is actually quite trivial with neural networks where you can easily achieve better than 97% accuracy. Fashion-MNIST is a set of 28x28 greyscale images of clothes. It's more complex than MNIST, so it's a better representation of the actual performance of your network, and a better representation of datasets you'll use in the real world.\n",
    "\n",
    "<img src='assets/fashion-mnist-sprite.png' width=500px>\n",
    "\n",
    "In this notebook, you'll build your own neural network. For the most part, you could just copy and paste the code from Part 3, but you wouldn't be learning. It's important for you to write the code yourself and get it to work. Feel free to consult the previous notebook though as you work through this.\n",
    "\n",
    "First off, let's load the dataset through torchvision."
   ]
  },
  {
   "cell_type": "code",
   "execution_count": 9,
   "metadata": {},
   "outputs": [],
   "source": [
    "import torch\n",
    "from torchvision import datasets, transforms\n",
    "import helper\n",
    "\n",
    "# Define a transform to normalize the data\n",
    "transform = transforms.Compose([transforms.ToTensor(),\n",
    "                                transforms.Normalize((0.5, 0.5, 0.5), (0.5, 0.5, 0.5))])\n",
    "# Download and load the training data\n",
    "trainset = datasets.FashionMNIST('F_MNIST_data/', download=True, train=True, transform=transform)\n",
    "trainloader = torch.utils.data.DataLoader(trainset, batch_size=64, shuffle=True)\n",
    "\n",
    "# Download and load the test data\n",
    "testset = datasets.FashionMNIST('F_MNIST_data/', download=True, train=False, transform=transform)\n",
    "testloader = torch.utils.data.DataLoader(testset, batch_size=64, shuffle=True)"
   ]
  },
  {
   "cell_type": "markdown",
   "metadata": {},
   "source": [
    "Here we can see one of the images."
   ]
  },
  {
   "cell_type": "code",
   "execution_count": 46,
   "metadata": {},
   "outputs": [
    {
     "data": {
      "image/png": "[encoded data removed]",
      "text/plain": [
       "<matplotlib.figure.Figure at 0x7f84aae78390>"
      ]
     },
     "metadata": {
      "image/png": {
       "height": 233,
       "width": 233
      }
     },
     "output_type": "display_data"
    }
   ],
   "source": [
    "image, label = next(iter(trainloader))\n",
    "helper.imshow(image[1,:]);"
   ]
  },
  {
   "cell_type": "markdown",
   "metadata": {},
   "source": [
    "With the data loaded, it's time to import the necessary packages."
   ]
  },
  {
   "cell_type": "code",
   "execution_count": 11,
   "metadata": {},
   "outputs": [],
   "source": [
    "%matplotlib inline\n",
    "%config InlineBackend.figure_format = 'retina'\n",
    "\n",
    "import matplotlib.pyplot as plt\n",
    "import numpy as np\n",
    "import time\n",
    "\n",
    "import torch\n",
    "from torch import nn\n",
    "from torch import optim\n",
    "import torch.nn.functional as F\n",
    "from torchvision import datasets, transforms\n",
    "\n",
    "import helper"
   ]
  },
  {
   "cell_type": "markdown",
   "metadata": {},
   "source": [
    "## Building the network\n",
    "\n",
    "Here you should define your network. As with MNIST, each image is 28x28 which is a total of 784 pixels, and there are 10 classes. You should include at least one hidden layer. We suggest you use ReLU activations for the layers and to return the logits from the forward pass. It's up to you how many layers you add and the size of those layers."
   ]
  },
  {
   "cell_type": "code",
   "execution_count": 16,
   "metadata": {},
   "outputs": [],
   "source": [
    "# TODO: Define your network architecture here\n",
    "from collections import OrderedDict\n",
    "\n",
    "input_size = 784\n",
    "hidden_sizes = [128,64]\n",
    "output_size = 10\n",
    "\n",
    "#feed forward network\n",
    "model = nn.Sequential(OrderedDict([\n",
    "    ('fc1',nn.Linear(input_size,hidden_sizes[0])),\n",
    "    ('relu1',nn.ReLU()),\n",
    "    ('fc2',nn.Linear(hidden_sizes[0],hidden_sizes[1])),\n",
    "    ('relu2',nn.ReLU()),\n",
    "    ('logits',nn.Linear(hidden_sizes[1], output_size))]))\n"
   ]
  },
  {
   "cell_type": "markdown",
   "metadata": {},
   "source": [
    "# Train the network\n",
    "\n",
    "Now you should create your network and train it. First you'll want to define [the criterion](http://pytorch.org/docs/master/nn.html#loss-functions) ( something like `nn.CrossEntropyLoss`) and [the optimizer](http://pytorch.org/docs/master/optim.html) (typically `optim.SGD` or `optim.Adam`).\n",
    "\n",
    "Then write the training code. Remember the training pass is a fairly straightforward process:\n",
    "\n",
    "* Make a forward pass through the network to get the logits \n",
    "* Use the logits to calculate the loss\n",
    "* Perform a backward pass through the network with `loss.backward()` to calculate the gradients\n",
    "* Take a step with the optimizer to update the weights\n",
    "\n",
    "By adjusting the hyperparameters (hidden units, learning rate, etc), you should be able to get the training loss below 0.4."
   ]
  },
  {
   "cell_type": "code",
   "execution_count": 18,
   "metadata": {},
   "outputs": [],
   "source": [
    "# TODO: Create the network, define the criterion and optimizer\n",
    "criterion = nn.CrossEntropyLoss()\n",
    "optimizer = optim.SGD(model.parameters(),lr = 0.001)"
   ]
  },
  {
   "cell_type": "code",
   "execution_count": 47,
   "metadata": {},
   "outputs": [
    {
     "name": "stdout",
     "output_type": "stream",
     "text": [
      "Epoch: 1/3... Loss:0.417529\n",
      "Epoch: 1/3... Loss:0.417695\n",
      "Epoch: 1/3... Loss:0.399996\n",
      "Epoch: 1/3... Loss:0.416956\n",
      "Epoch: 1/3... Loss:0.407654\n",
      "Epoch: 1/3... Loss:0.397823\n",
      "Epoch: 1/3... Loss:0.399626\n",
      "Epoch: 1/3... Loss:0.398303\n",
      "Epoch: 1/3... Loss:0.393189\n",
      "Epoch: 1/3... Loss:0.410438\n",
      "Epoch: 1/3... Loss:0.399822\n",
      "Epoch: 1/3... Loss:0.421682\n",
      "Epoch: 1/3... Loss:0.432061\n",
      "Epoch: 1/3... Loss:0.392149\n",
      "Epoch: 1/3... Loss:0.403581\n",
      "Epoch: 1/3... Loss:0.415804\n",
      "Epoch: 1/3... Loss:0.399206\n",
      "Epoch: 1/3... Loss:0.381510\n",
      "Epoch: 1/3... Loss:0.393292\n",
      "Epoch: 1/3... Loss:0.411710\n",
      "Epoch: 1/3... Loss:0.392033\n",
      "Epoch: 1/3... Loss:0.406226\n",
      "Epoch: 1/3... Loss:0.388169\n",
      "Epoch: 2/3... Loss:0.227333\n",
      "Epoch: 2/3... Loss:0.423677\n",
      "Epoch: 2/3... Loss:0.417199\n",
      "Epoch: 2/3... Loss:0.394805\n",
      "Epoch: 2/3... Loss:0.377283\n",
      "Epoch: 2/3... Loss:0.375449\n",
      "Epoch: 2/3... Loss:0.384241\n",
      "Epoch: 2/3... Loss:0.426285\n",
      "Epoch: 2/3... Loss:0.386076\n",
      "Epoch: 2/3... Loss:0.396337\n",
      "Epoch: 2/3... Loss:0.439437\n",
      "Epoch: 2/3... Loss:0.402239\n",
      "Epoch: 2/3... Loss:0.393999\n",
      "Epoch: 2/3... Loss:0.381542\n",
      "Epoch: 2/3... Loss:0.397666\n",
      "Epoch: 2/3... Loss:0.371300\n",
      "Epoch: 2/3... Loss:0.368121\n",
      "Epoch: 2/3... Loss:0.394025\n",
      "Epoch: 2/3... Loss:0.379198\n",
      "Epoch: 2/3... Loss:0.378451\n",
      "Epoch: 2/3... Loss:0.382861\n",
      "Epoch: 2/3... Loss:0.400679\n",
      "Epoch: 2/3... Loss:0.372764\n",
      "Epoch: 3/3... Loss:0.040740\n",
      "Epoch: 3/3... Loss:0.379091\n",
      "Epoch: 3/3... Loss:0.369435\n",
      "Epoch: 3/3... Loss:0.374739\n",
      "Epoch: 3/3... Loss:0.404392\n",
      "Epoch: 3/3... Loss:0.369421\n",
      "Epoch: 3/3... Loss:0.379110\n",
      "Epoch: 3/3... Loss:0.385964\n",
      "Epoch: 3/3... Loss:0.402553\n",
      "Epoch: 3/3... Loss:0.386063\n",
      "Epoch: 3/3... Loss:0.416496\n",
      "Epoch: 3/3... Loss:0.375137\n",
      "Epoch: 3/3... Loss:0.359203\n",
      "Epoch: 3/3... Loss:0.375410\n",
      "Epoch: 3/3... Loss:0.399658\n",
      "Epoch: 3/3... Loss:0.397517\n",
      "Epoch: 3/3... Loss:0.365132\n",
      "Epoch: 3/3... Loss:0.383227\n",
      "Epoch: 3/3... Loss:0.328492\n",
      "Epoch: 3/3... Loss:0.401914\n",
      "Epoch: 3/3... Loss:0.366775\n",
      "Epoch: 3/3... Loss:0.365049\n",
      "Epoch: 3/3... Loss:0.369935\n",
      "Epoch: 3/3... Loss:0.409882\n"
     ]
    }
   ],
   "source": [
    "# TODO: Train the network here\n",
    "epochs = 3\n",
    "print_every = 40\n",
    "steps = 0\n",
    "\n",
    "for e in range(epochs):\n",
    "    running_loss = 0\n",
    "    for images, labels in iter(trainloader):\n",
    "        steps += 1\n",
    "        \n",
    "        images.resize_(images.size()[0],784)\n",
    "        \n",
    "        optimizer.zero_grad()\n",
    "        \n",
    "        #forward and backward passes\n",
    "        output = model.forward(images)\n",
    "        loss = criterion(output,labels)\n",
    "        loss.backward()\n",
    "        optimizer.step()\n",
    "        \n",
    "        running_loss += loss.item()\n",
    "        \n",
    "        if steps% print_every == 0:\n",
    "            print(\"Epoch: {}/{}...\".format(e+1,epochs),\n",
    "                  \"Loss:{:4f}\".format(running_loss/print_every))\n",
    "            \n",
    "            running_loss = 0"
   ]
  },
  {
   "cell_type": "code",
   "execution_count": 51,
   "metadata": {},
   "outputs": [
    {
     "data": {
      "image/png": "[encoded data removed]",
      "text/plain": [
       "<matplotlib.figure.Figure at 0x7f84aaf07d30>"
      ]
     },
     "metadata": {
      "image/png": {
       "height": 204,
       "width": 423
      }
     },
     "output_type": "display_data"
    }
   ],
   "source": [
    "# Test out your network!\n",
    "\n",
    "dataiter = iter(testloader)\n",
    "images, labels = dataiter.next()\n",
    "img = images[5]\n",
    "# Convert 2D image to 1D vector\n",
    "img = img.resize_(1, 784)\n",
    "\n",
    "# TODO: Calculate the class probabilities (softmax) for img\n",
    "with torch.no_grad():\n",
    "    logits = model.forward(img)\n",
    "ps = F.softmax(logits, dim=1)\n",
    "\n",
    "# Plot the image and probabilities\n",
    "helper.view_classify(img.resize_(1, 28, 28), ps, version='Fashion')"
   ]
  },
  {
   "cell_type": "markdown",
   "metadata": {},
   "source": [
    "Now that your network is trained, you'll want to save it to disk so you can load it later instead of training it again. Obviously, it's impractical to train a network every time you need one. In practice, you'll train it once, save the model, then reload it for further training or making predictions. In the next part, I'll show you how to save and load trained models."
   ]
  }
 ],
 "metadata": {
  "kernelspec": {
   "display_name": "Python 3",
   "language": "python",
   "name": "python3"
  },
  "language_info": {
   "codemirror_mode": {
    "name": "ipython",
    "version": 3
   },
   "file_extension": ".py",
   "mimetype": "text/x-python",
   "name": "python",
   "nbconvert_exporter": "python",
   "pygments_lexer": "ipython3",
   "version": "3.6.4"
  }
 },
 "nbformat": 4,
 "nbformat_minor": 2
}
